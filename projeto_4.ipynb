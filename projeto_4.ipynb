{
 "cells": [
  {
   "metadata": {},
   "cell_type": "markdown",
   "source": [
    "# Projeto 4 - Álgebra Linear Numérica\n",
    "# Álgebra Linear e Matrizes Aleatórias\n",
    "\n",
    "## Alunos:\n",
    "* Isaías Gouvêa Gonçalves\n",
    "* Gustavo Luciano"
   ],
   "id": "663113ddaf034e33"
  },
  {
   "metadata": {
    "jupyter": {
     "is_executing": true
    }
   },
   "cell_type": "code",
   "source": [
    "import pandas as pd\n",
    "import numpy as np\n",
    "import matplotlib.pyplot as plt\n",
    "import seaborn as sns"
   ],
   "id": "acbbf1d617020085",
   "outputs": [],
   "execution_count": null
  },
  {
   "metadata": {
    "jupyter": {
     "is_executing": true
    }
   },
   "cell_type": "code",
   "source": [
    "# Hiperparâmetros do projeto\n",
    "\n",
    "n = 100 # Número de colunas da matriz"
   ],
   "id": "7a39b5d532da6f84",
   "outputs": [],
   "execution_count": null
  },
  {
   "metadata": {},
   "cell_type": "code",
   "outputs": [],
   "execution_count": null,
   "source": [
    "# Gerando matriz aleatória m x n\n",
    "\n",
    "def matrix(m, n):\n",
    "    \"\"\"\n",
    "    Gera uma matriz aleatória de tamanho m x n.\n",
    "    \"\"\"\n",
    "    return np.random.normal(size=(m, n), loc=0, scale=1)"
   ],
   "id": "bc562565ec97d5c7"
  }
 ],
 "metadata": {
  "kernelspec": {
   "display_name": "Python 3",
   "language": "python",
   "name": "python3"
  },
  "language_info": {
   "codemirror_mode": {
    "name": "ipython",
    "version": 2
   },
   "file_extension": ".py",
   "mimetype": "text/x-python",
   "name": "python",
   "nbconvert_exporter": "python",
   "pygments_lexer": "ipython2",
   "version": "2.7.6"
  }
 },
 "nbformat": 4,
 "nbformat_minor": 5
}
