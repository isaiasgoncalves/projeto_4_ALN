{
 "cells": [
  {
   "cell_type": "code",
   "id": "initial_id",
   "metadata": {
    "collapsed": true,
    "ExecuteTime": {
     "end_time": "2025-06-17T17:30:38.955058Z",
     "start_time": "2025-06-17T17:30:38.949285Z"
    }
   },
   "source": [
    "import pandas as pd\n",
    "import numpy as np\n",
    "import matplotlib.pyplot as plt\n",
    "import seaborn as sns"
   ],
   "outputs": [],
   "execution_count": 5
  },
  {
   "metadata": {
    "ExecuteTime": {
     "end_time": "2025-06-17T17:30:40.189800Z",
     "start_time": "2025-06-17T17:30:40.177159Z"
    }
   },
   "cell_type": "code",
   "source": [
    "# Gerando matriz aleatória m x n\n",
    "\n",
    "def matrix(m, n):\n",
    "    \"\"\"\n",
    "    Gera uma matriz aleatória de tamanho m x n.\n",
    "    \"\"\"\n",
    "    return np.random.normal(size=(m, n), loc=0, scale=1)\n"
   ],
   "id": "4b1a2d5c37b264a",
   "outputs": [],
   "execution_count": 6
  }
 ],
 "metadata": {
  "kernelspec": {
   "display_name": "Python 3",
   "language": "python",
   "name": "python3"
  },
  "language_info": {
   "codemirror_mode": {
    "name": "ipython",
    "version": 2
   },
   "file_extension": ".py",
   "mimetype": "text/x-python",
   "name": "python",
   "nbconvert_exporter": "python",
   "pygments_lexer": "ipython2",
   "version": "2.7.6"
  }
 },
 "nbformat": 4,
 "nbformat_minor": 5
}
